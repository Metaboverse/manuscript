{
 "cells": [
  {
   "cell_type": "markdown",
   "id": "adc53d81-719c-4b68-9f19-e3582b360c49",
   "metadata": {},
   "source": [
    "# LUAD survival analysis\n",
    "\n",
    "#### Data sources:\n",
    "- `rna_cancer_sample.tsv`: Human Protein Atlas (https://www.proteinatlas.org/download/rna_cancer_sample.tsv.zip)\n",
    "- `clinical.tsv`: TCGA (https://portal.gdc.cancer.gov/projects/TCGA-LUAD; click Clinical download button)"
   ]
  },
  {
   "cell_type": "markdown",
   "id": "1ba979ad",
   "metadata": {},
   "source": [
    "### Import dependencies"
   ]
  },
  {
   "cell_type": "code",
   "execution_count": 1,
   "id": "4638c5e9",
   "metadata": {
    "tags": []
   },
   "outputs": [
    {
     "name": "stderr",
     "output_type": "stream",
     "text": [
      "Loading required package: ggplot2\n",
      "\n",
      "Loading required package: ggpubr\n",
      "\n"
     ]
    }
   ],
   "source": [
    "suppressWarnings({\n",
    "    library(survival)\n",
    "    library(survminer)\n",
    "\n",
    "    setwd(\"C:/Users/jorda/Desktop/projects/manuscript/rna_cancer_data/\")\n",
    "})"
   ]
  },
  {
   "cell_type": "markdown",
   "id": "3da3db73",
   "metadata": {},
   "source": [
    "### Read gene expression data and format"
   ]
  },
  {
   "cell_type": "code",
   "execution_count": null,
   "id": "dd248773",
   "metadata": {
    "tags": []
   },
   "outputs": [],
   "source": [
    "rpkm_data <- read.csv(file = 'rna_cancer_sample.tsv', sep='\\t')\n",
    "\n",
    "# Extract LUAD data\n",
    "rpkm_data <- rpkm_data[rpkm_data$Cancer == 'LUAD',]\n",
    "\n",
    "# Clean up Sample IDs\n",
    "rpkm_data$Sample <- sapply(strsplit(rpkm_data$Sample, \"-01A\"), \"[\", 1)\n",
    "gene_list <- unique(rpkm_data$Gene)\n",
    "rpkm_data$FPKM <- as.numeric(rpkm_data$FPKM)"
   ]
  },
  {
   "cell_type": "markdown",
   "id": "8d0ebd5e",
   "metadata": {},
   "source": [
    "### Read clinical data and format/censor"
   ]
  },
  {
   "cell_type": "code",
   "execution_count": null,
   "id": "91fb2577",
   "metadata": {
    "tags": []
   },
   "outputs": [],
   "source": [
    "clinical_data <- read.csv(file = \"clinical.tsv\", sep='\\t')\n",
    "\n",
    "# Censor alive==0/dead==1\n",
    "censor_data <- function(x) if (x == \"Alive\") {0} else {1}\n",
    "clinical_data$status <- mapply(censor_data, clinical_data$vital_status)\n",
    "clinical_data$status <- as.numeric(clinical_data$status)\n",
    "clinical_data$days_to_death <- as.numeric(clinical_data$days_to_death)\n",
    "\n",
    "# Right censor for alive\n",
    "# https://cran.r-project.org/web/packages/finalfit/vignettes/survival.html\n",
    "clinical_data$days_to_death <- ifelse(\n",
    "    is.na(clinical_data$days_to_death), \n",
    "    clinical_data$days_to_last_follow_up, \n",
    "    clinical_data$days_to_death)\n",
    "\n",
    "# Get relevant data and perform some additional data clean-up\n",
    "clinical_sample <- clinical_data[ , c(\"case_submitter_id\", \"ajcc_pathologic_stage\", \"status\", \"days_to_death\", \"days_to_last_follow_up\")] \n",
    "clinical_sample <- clinical_sample[clinical_sample$days_to_death > 10 & clinical_sample$days_to_last_follow_up != \"'--\", ]\n",
    "clinical_sample <- clinical_sample[clinical_sample$days_to_death != \"'--\", ]\n",
    "\n",
    "# Make sure output formatting is correct\n",
    "clinical_sample$status <- as.numeric(as.character(clinical_sample$status))\n",
    "clinical_sample$days_to_death <- as.numeric(as.character(clinical_sample$days_to_death))\n",
    "clinical_sample$days_to_last_follow_up <- as.numeric(as.character(clinical_sample$days_to_last_follow_up))\n",
    "\n",
    "# Add stage category labels\n",
    "clinical_sample$stage <- clinical_sample$ajcc_pathologic_stage\n",
    "clinical_sample <- clinical_sample[clinical_sample$stage != \"'--\", ]\n",
    "clinical_sample$stage[\n",
    "    clinical_sample$stage == \"Stage I\" | \n",
    "    clinical_sample$stage == \"Stage IA\" | \n",
    "    clinical_sample$stage == \"Stage IB\"] <- 1\n",
    "clinical_sample$stage[\n",
    "    clinical_sample$stage == \"Stage II\" | \n",
    "    clinical_sample$stage == \"Stage IIA\" | \n",
    "    clinical_sample$stage == \"Stage IIB\"] <- 2\n",
    "clinical_sample$stage[\n",
    "    clinical_sample$stage == \"Stage III\" | \n",
    "    clinical_sample$stage == \"Stage IIIA\" | \n",
    "    clinical_sample$stage == \"Stage IIIB\"] <- 3\n",
    "clinical_sample$stage[\n",
    "    clinical_sample$stage == \"Stage IV\" | \n",
    "    clinical_sample$stage == \"Stage IVA\" | \n",
    "    clinical_sample$stage == \"Stage IVB\"] <- 4\n",
    "\n",
    "# Parse out early vs. late patients\n",
    "clinical_sample_early <- clinical_sample[\n",
    "    clinical_sample$ajcc_pathologic_stage == \"Stage I\" | \n",
    "    clinical_sample$ajcc_pathologic_stage == \"Stage IA\" | \n",
    "    clinical_sample$ajcc_pathologic_stage == \"Stage IB\", ]\n",
    "clinical_sample_late <- clinical_sample[\n",
    "    clinical_sample$ajcc_pathologic_stage != \"Stage I\" & \n",
    "    clinical_sample$ajcc_pathologic_stage != \"Stage IA\" & \n",
    "    clinical_sample$ajcc_pathologic_stage != \"Stage IB\", ]"
   ]
  },
  {
   "cell_type": "code",
   "execution_count": null,
   "id": "9dd43f5a-3464-4faa-9479-302d7d605cf7",
   "metadata": {},
   "outputs": [],
   "source": [
    "par(mfrow=c(1,2), pin=c(3,1))\n",
    "\n",
    "x1 <- clinical_sample[clinical_sample$status == 1, ]$days_to_last_follow_up\n",
    "h1 <-hist(x1, breaks=20, col=\"red\", xlab=\"Days to Follow-up\", main=\"Dead\")\n",
    "xfit1<-seq(min(x1),max(x1),length=40)\n",
    "yfit1<-dnorm(xfit1,mean=mean(x1),sd=sd(x1))\n",
    "yfit1 <- yfit1*diff(h1$mids[1:2])*length(x1)\n",
    "lines(xfit1, yfit1, col=\"red\", lwd=2)\n",
    "\n",
    "x2 <- clinical_sample[clinical_sample$status == 0, ]$days_to_last_follow_up\n",
    "h2 <- hist(x2, breaks=20, col=\"blue\", xlab=\"Days to Follow-up\", main=\"Alive\")\n",
    "xfit2<-seq(min(x2),max(x2),length=40)\n",
    "yfit2<-dnorm(xfit2,mean=mean(x2),sd=sd(x2))\n",
    "yfit2 <- yfit2*diff(h2$mids[1:2])*length(x2)\n",
    "lines(xfit2, yfit2, col=\"blue\", lwd=2)"
   ]
  },
  {
   "cell_type": "code",
   "execution_count": null,
   "id": "4ccb2fb1-b264-42f0-ad9a-7c0033dce372",
   "metadata": {},
   "outputs": [],
   "source": [
    "head(clinical_sample)"
   ]
  },
  {
   "cell_type": "markdown",
   "id": "a5aa36c0",
   "metadata": {},
   "source": [
    "### Perform analysis on all genes"
   ]
  },
  {
   "cell_type": "markdown",
   "id": "801654b7-b73a-4818-b09e-d7ca7ec3d1fc",
   "metadata": {},
   "source": [
    "#### All stages"
   ]
  },
  {
   "cell_type": "code",
   "execution_count": null,
   "id": "7785311c",
   "metadata": {
    "tags": []
   },
   "outputs": [],
   "source": [
    "median_pvals <-list()\n",
    "optimized_pvals <- list()\n",
    "counter <- 0\n",
    "\n",
    "for (this_gene in gene_list) {\n",
    "  tryCatch({\n",
    "    data_gene <- rpkm_data[rpkm_data$Gene == this_gene,]\n",
    "    # Merged mixed data tables\n",
    "    merged_data_gene <- merge(\n",
    "      data_gene,\n",
    "      clinical_sample,\n",
    "      by.x = \"Sample\",\n",
    "      by.y = \"case_submitter_id\")\n",
    "\n",
    "    this_median <- median(merged_data_gene$FPKM)\n",
    "    merged_data_gene$gene_status <- ifelse(merged_data_gene$FPKM > this_median, \"high\", \"low\")\n",
    "\n",
    "    km_trt_fit <- survfit(Surv(days_to_death, status) ~ gene_status, data=merged_data_gene)\n",
    "\n",
    "    opt_cutoff <- surv_cutpoint(merged_data_gene, time = \"days_to_death\", event = \"status\", variables = c(\"FPKM\"))\n",
    "    # print(c(this_gene, opt_cutoff))\n",
    "    opt_categories <- surv_categorize(opt_cutoff)\n",
    "    opt_fit <- survfit(Surv(days_to_death, status) ~ FPKM, data = opt_categories)\n",
    "\n",
    "    median_pvals[this_gene] <- surv_pvalue(km_trt_fit)$pval\n",
    "    optimized_pvals[this_gene] <- surv_pvalue(opt_fit)$pval\n",
    "  }, error = function (condition) {\n",
    "    counter <- counter + 1\n",
    "    #print(this_gene)\n",
    "    #print(condition)\n",
    "    #break\n",
    "  })\n",
    "}\n",
    "\n",
    "print(paste(\"Skipped\", counter, \"genes\", sep=\" \"))"
   ]
  },
  {
   "cell_type": "markdown",
   "id": "ee6712f8-a24f-40b1-801d-a13dc7075cd1",
   "metadata": {},
   "source": [
    "#### Early stages"
   ]
  },
  {
   "cell_type": "code",
   "execution_count": null,
   "id": "a788327e-11c7-4040-a963-f0a07f51a30c",
   "metadata": {
    "tags": []
   },
   "outputs": [],
   "source": [
    "median_pvals_early <-list()\n",
    "optimized_pvals_early <- list()\n",
    "counter <- 0\n",
    "\n",
    "for (this_gene in gene_list) {\n",
    "  tryCatch({\n",
    "    data_gene <- rpkm_data[rpkm_data$Gene == this_gene,]\n",
    "    # Merged mixed data tables\n",
    "    merged_data_gene <- merge(\n",
    "      data_gene,\n",
    "      clinical_sample_early,\n",
    "      by.x = \"Sample\",\n",
    "      by.y = \"case_submitter_id\")\n",
    "\n",
    "    this_median <- median(merged_data_gene$FPKM)\n",
    "    merged_data_gene$gene_status <- ifelse(merged_data_gene$FPKM > this_median, \"high\", \"low\")\n",
    "\n",
    "    km_trt_fit <- survfit(Surv(days_to_death, status) ~ gene_status, data=merged_data_gene)\n",
    "\n",
    "    opt_cutoff <- surv_cutpoint(merged_data_gene, time = \"days_to_death\", event = \"status\", variables = c(\"FPKM\"))\n",
    "    # print(c(this_gene, opt_cutoff))\n",
    "    opt_categories <- surv_categorize(opt_cutoff)\n",
    "    opt_fit <- survfit(Surv(days_to_death, status) ~ FPKM, data = opt_categories)\n",
    "\n",
    "    median_pvals_early[this_gene] <- surv_pvalue(km_trt_fit)$pval\n",
    "    optimized_pvals_early[this_gene] <- surv_pvalue(opt_fit)$pval\n",
    "  }, error = function (condition) {\n",
    "    counter <- counter + 1\n",
    "    #print(this_gene)\n",
    "    #print(condition)\n",
    "    #break\n",
    "  })\n",
    "}\n",
    "\n",
    "print(paste(\"Skipped\", counter, \"genes\", sep=\" \"))"
   ]
  },
  {
   "cell_type": "markdown",
   "id": "e9011b5d-bf82-452d-81ef-45b9376fcf09",
   "metadata": {},
   "source": [
    "#### Late stages"
   ]
  },
  {
   "cell_type": "code",
   "execution_count": null,
   "id": "78100329-1a1d-4eca-b8d0-8cf4f1c5fcc4",
   "metadata": {
    "tags": []
   },
   "outputs": [],
   "source": [
    "median_pvals_late <-list()\n",
    "optimized_pvals_late <- list()\n",
    "counter <- 0\n",
    "\n",
    "for (this_gene in gene_list) {\n",
    "  tryCatch({\n",
    "    data_gene <- rpkm_data[rpkm_data$Gene == this_gene,]\n",
    "    # Merged mixed data tables\n",
    "    merged_data_gene <- merge(\n",
    "      data_gene,\n",
    "      clinical_sample_late,\n",
    "      by.x = \"Sample\",\n",
    "      by.y = \"case_submitter_id\")\n",
    "\n",
    "    this_median <- median(merged_data_gene$FPKM)\n",
    "    merged_data_gene$gene_status <- ifelse(merged_data_gene$FPKM > this_median, \"high\", \"low\")\n",
    "\n",
    "    km_trt_fit <- survfit(Surv(days_to_death, status) ~ gene_status, data=merged_data_gene)\n",
    "\n",
    "    opt_cutoff <- surv_cutpoint(merged_data_gene, time = \"days_to_death\", event = \"status\", variables = c(\"FPKM\"))\n",
    "    # print(c(this_gene, opt_cutoff))\n",
    "    opt_categories <- surv_categorize(opt_cutoff)\n",
    "    opt_fit <- survfit(Surv(days_to_death, status) ~ FPKM, data = opt_categories)\n",
    "\n",
    "    median_pvals_late[this_gene] <- surv_pvalue(km_trt_fit)$pval\n",
    "    optimized_pvals_late[this_gene] <- surv_pvalue(opt_fit)$pval\n",
    "  }, error = function (condition) {\n",
    "    counter <- counter + 1\n",
    "    #print(this_gene)\n",
    "    #print(condition)\n",
    "    #break\n",
    "  })\n",
    "}\n",
    "\n",
    "print(paste(\"Skipped\", counter, \"genes\", sep=\" \"))"
   ]
  },
  {
   "cell_type": "markdown",
   "id": "5c446f0b-6113-45d9-909d-593e6ea5e5cc",
   "metadata": {},
   "source": [
    "### SMS (ENSG00000102172)"
   ]
  },
  {
   "cell_type": "code",
   "execution_count": null,
   "id": "155d75f5-d315-4837-bb47-6ae26e38bde0",
   "metadata": {},
   "outputs": [],
   "source": [
    "this_gene <- \"ENSG00000102172\""
   ]
  },
  {
   "cell_type": "markdown",
   "id": "484be22b-d625-4892-ae35-1e556852fdcf",
   "metadata": {},
   "source": [
    "#### All stages"
   ]
  },
  {
   "cell_type": "code",
   "execution_count": null,
   "id": "5a283866-c3d9-41ba-bd76-f8a6eb83b151",
   "metadata": {
    "tags": []
   },
   "outputs": [],
   "source": [
    "# K-M Curve\n",
    "data_gene <- rpkm_data[rpkm_data$Gene == this_gene,]\n",
    "# Merged mixed data tables\n",
    "merged_data_gene <- merge(\n",
    "  data_gene,\n",
    "  clinical_sample,\n",
    "  by.x = \"Sample\",\n",
    "  by.y = \"case_submitter_id\")\n",
    "\n",
    "opt_cutoff <- surv_cutpoint(merged_data_gene, time = \"days_to_death\", event = \"status\", variables = c(\"FPKM\"))\n",
    "opt_categories <- surv_categorize(opt_cutoff)\n",
    "opt_fit <- survfit(Surv(days_to_death, status) ~ FPKM, data = opt_categories)\n",
    "\n",
    "sms_val <- surv_pvalue(opt_fit)$pval\n",
    "\n",
    "#pdf('SMS_all_km.pdf')\n",
    "ggsurvplot(\n",
    "  opt_fit,\n",
    "  risk.table = TRUE,\n",
    "  conf.int=TRUE,\n",
    "  pval=sms_val,\n",
    "  pval.method=TRUE,\n",
    "  palette=c(\"dodgerblue2\", \"orchid2\"),\n",
    "  title=\"Kaplan-Meier Curve for Lung Cancer Survival\",\n",
    "  risk.table.height=.25)\n",
    "\n",
    "# Cox Regression\n",
    "data_gene <- rpkm_data[rpkm_data$Gene == this_gene,]\n",
    "# Merged mixed data tables\n",
    "merged_data_gene <- merge(\n",
    "  data_gene,\n",
    "  clinical_sample,\n",
    "  by.x = \"Sample\",\n",
    "  by.y = \"case_submitter_id\")\n",
    "opt_cutoff <- surv_cutpoint(merged_data_gene, time = \"days_to_death\", event = \"status\", variables = c(\"FPKM\"))\n",
    "opt_categories <- surv_categorize(opt_cutoff)\n",
    "opt_fit <- survfit(Surv(days_to_death, status) ~ FPKM, data = opt_categories)\n",
    "res.cox <- coxph(Surv(days_to_death, status) ~ FPKM, data=opt_categories)\n",
    "summary(res.cox)"
   ]
  },
  {
   "cell_type": "markdown",
   "id": "3b2dc282-e1be-4d5c-9d09-cafeb346db0a",
   "metadata": {},
   "source": [
    "#### Early samples"
   ]
  },
  {
   "cell_type": "code",
   "execution_count": null,
   "id": "ef9c3bed-a919-487d-aa49-d6edf04a6bc1",
   "metadata": {
    "tags": []
   },
   "outputs": [],
   "source": [
    "# K-M Curve\n",
    "data_gene <- rpkm_data[rpkm_data$Gene == this_gene,]\n",
    "# Merged mixed data tables\n",
    "merged_data_gene <- merge(\n",
    "  data_gene,\n",
    "  clinical_sample_early,\n",
    "  by.x = \"Sample\",\n",
    "  by.y = \"case_submitter_id\")\n",
    "\n",
    "opt_cutoff <- surv_cutpoint(merged_data_gene, time = \"days_to_death\", event = \"status\", variables = c(\"FPKM\"))\n",
    "opt_categories <- surv_categorize(opt_cutoff)\n",
    "opt_fit <- survfit(Surv(days_to_death, status) ~ FPKM, data = opt_categories)\n",
    "\n",
    "sms_val <- surv_pvalue(opt_fit)$pval\n",
    "\n",
    "#pdf('SMS_early_km.pdf')\n",
    "ggsurvplot(\n",
    "  opt_fit,\n",
    "  risk.table = TRUE,\n",
    "  conf.int=TRUE,\n",
    "  pval=sms_val,\n",
    "  pval.method=TRUE,\n",
    "  palette=c(\"dodgerblue2\", \"orchid2\"),\n",
    "  title=\"Kaplan-Meier Curve for Lung Cancer Survival\",\n",
    "  risk.table.height=.25)\n",
    "\n",
    "# Cox Regression\n",
    "data_gene <- rpkm_data[rpkm_data$Gene == this_gene,]\n",
    "# Merged mixed data tables\n",
    "merged_data_gene <- merge(\n",
    "  data_gene,\n",
    "  clinical_sample_early,\n",
    "  by.x = \"Sample\",\n",
    "  by.y = \"case_submitter_id\")\n",
    "opt_cutoff <- surv_cutpoint(merged_data_gene, time = \"days_to_death\", event = \"status\", variables = c(\"FPKM\"))\n",
    "opt_categories <- surv_categorize(opt_cutoff)\n",
    "opt_fit <- survfit(Surv(days_to_death, status) ~ FPKM, data = opt_categories)\n",
    "res.cox <- coxph(Surv(days_to_death, status) ~ FPKM, data=opt_categories)\n",
    "summary(res.cox)"
   ]
  },
  {
   "cell_type": "markdown",
   "id": "8d6c2b8c-684a-408f-8726-faf51b3de287",
   "metadata": {},
   "source": [
    "#### Late samples"
   ]
  },
  {
   "cell_type": "code",
   "execution_count": null,
   "id": "bf67e1b9-759b-434f-a9e9-134f93ad0135",
   "metadata": {
    "tags": []
   },
   "outputs": [],
   "source": [
    "# K-M Curve\n",
    "data_gene <- rpkm_data[rpkm_data$Gene == this_gene,]\n",
    "# Merged mixed data tables\n",
    "merged_data_gene <- merge(\n",
    "  data_gene,\n",
    "  clinical_sample_late,\n",
    "  by.x = \"Sample\",\n",
    "  by.y = \"case_submitter_id\")\n",
    "\n",
    "opt_cutoff <- surv_cutpoint(merged_data_gene, time = \"days_to_death\", event = \"status\", variables = c(\"FPKM\"))\n",
    "opt_categories <- surv_categorize(opt_cutoff)\n",
    "opt_fit <- survfit(Surv(days_to_death, status) ~ FPKM, data = opt_categories)\n",
    "\n",
    "sms_val <- surv_pvalue(opt_fit)$pval\n",
    "\n",
    "#pdf('SMS_late_km.pdf')\n",
    "ggsurvplot(\n",
    "  opt_fit,\n",
    "  risk.table = TRUE,\n",
    "  conf.int=TRUE,\n",
    "  pval=sms_val,\n",
    "  pval.method=TRUE,\n",
    "  palette=c(\"dodgerblue2\", \"orchid2\"),\n",
    "  title=\"Kaplan-Meier Curve for Lung Cancer Survival\",\n",
    "  risk.table.height=.25)\n",
    "\n",
    "# Cox Regression \n",
    "data_gene <- rpkm_data[rpkm_data$Gene == this_gene,]\n",
    "# Merged mixed data tables\n",
    "merged_data_gene <- merge(\n",
    "  data_gene,\n",
    "  clinical_sample_late,\n",
    "  by.x = \"Sample\",\n",
    "  by.y = \"case_submitter_id\")\n",
    "opt_cutoff <- surv_cutpoint(merged_data_gene, time = \"days_to_death\", event = \"status\", variables = c(\"FPKM\"))\n",
    "opt_categories <- surv_categorize(opt_cutoff)\n",
    "opt_fit <- survfit(Surv(days_to_death, status) ~ FPKM, data = opt_categories)\n",
    "res.cox <- coxph(Surv(days_to_death, status) ~ FPKM, data=opt_categories)\n",
    "summary(res.cox)"
   ]
  },
  {
   "cell_type": "markdown",
   "id": "f9892672-0f7f-49d2-a513-d8b1126cbf4d",
   "metadata": {},
   "source": [
    "### GLYCTK (ENSG00000168237)"
   ]
  },
  {
   "cell_type": "code",
   "execution_count": null,
   "id": "19bf3f04-89d0-4555-b8d4-8f03512c1b86",
   "metadata": {},
   "outputs": [],
   "source": [
    "this_gene <- \"ENSG00000168237\""
   ]
  },
  {
   "cell_type": "markdown",
   "id": "62b63eb9-bfda-4f55-947e-677eca13577f",
   "metadata": {},
   "source": [
    "#### All stages"
   ]
  },
  {
   "cell_type": "code",
   "execution_count": null,
   "id": "33dc752d-75ab-41c6-aa44-c2fe4d7587f1",
   "metadata": {
    "tags": []
   },
   "outputs": [],
   "source": [
    "# K-M Curve\n",
    "data_gene <- rpkm_data[rpkm_data$Gene == this_gene,]\n",
    "# Merged mixed data tables\n",
    "merged_data_gene <- merge(\n",
    "  data_gene,\n",
    "  clinical_sample,\n",
    "  by.x = \"Sample\",\n",
    "  by.y = \"case_submitter_id\")\n",
    "\n",
    "opt_cutoff <- surv_cutpoint(merged_data_gene, time = \"days_to_death\", event = \"status\", variables = c(\"FPKM\"))\n",
    "opt_categories <- surv_categorize(opt_cutoff)\n",
    "opt_fit <- survfit(Surv(days_to_death, status) ~ FPKM, data = opt_categories)\n",
    "\n",
    "sms_val <- surv_pvalue(opt_fit)$pval\n",
    "\n",
    "#pdf('GLYCTK_all_km.pdf')\n",
    "ggsurvplot(\n",
    "  opt_fit,\n",
    "  risk.table = TRUE,\n",
    "  conf.int=TRUE,\n",
    "  pval=sms_val,\n",
    "  pval.method=TRUE,\n",
    "  palette=c(\"dodgerblue2\", \"orchid2\"),\n",
    "  title=\"Kaplan-Meier Curve for Lung Cancer Survival\",\n",
    "  risk.table.height=.25)\n",
    "\n",
    "# Cox Regression\n",
    "data_gene <- rpkm_data[rpkm_data$Gene == this_gene,]\n",
    "# Merged mixed data tables\n",
    "merged_data_gene <- merge(\n",
    "  data_gene,\n",
    "  clinical_sample,\n",
    "  by.x = \"Sample\",\n",
    "  by.y = \"case_submitter_id\")\n",
    "opt_cutoff <- surv_cutpoint(merged_data_gene, time = \"days_to_death\", event = \"status\", variables = c(\"FPKM\"))\n",
    "opt_categories <- surv_categorize(opt_cutoff)\n",
    "opt_fit <- survfit(Surv(days_to_death, status) ~ FPKM, data = opt_categories)\n",
    "res.cox <- coxph(Surv(days_to_death, status) ~ FPKM, data=opt_categories)\n",
    "summary(res.cox)"
   ]
  },
  {
   "cell_type": "markdown",
   "id": "584cb677-e44c-46ac-8889-45bd930f9706",
   "metadata": {},
   "source": [
    "#### Early samples"
   ]
  },
  {
   "cell_type": "code",
   "execution_count": null,
   "id": "2201cc05-b19d-4529-983d-8f8bbf0d85ba",
   "metadata": {
    "tags": []
   },
   "outputs": [],
   "source": [
    "# K-M Curve\n",
    "data_gene <- rpkm_data[rpkm_data$Gene == this_gene,]\n",
    "# Merged mixed data tables\n",
    "merged_data_gene <- merge(\n",
    "  data_gene,\n",
    "  clinical_sample_early,\n",
    "  by.x = \"Sample\",\n",
    "  by.y = \"case_submitter_id\")\n",
    "\n",
    "opt_cutoff <- surv_cutpoint(merged_data_gene, time = \"days_to_death\", event = \"status\", variables = c(\"FPKM\"))\n",
    "opt_categories <- surv_categorize(opt_cutoff)\n",
    "opt_fit <- survfit(Surv(days_to_death, status) ~ FPKM, data = opt_categories)\n",
    "\n",
    "sms_val <- surv_pvalue(opt_fit)$pval\n",
    "\n",
    "#pdf('GLYCTK_early_km.pdf')\n",
    "ggsurvplot(\n",
    "  opt_fit,\n",
    "  risk.table = TRUE,\n",
    "  conf.int=TRUE,\n",
    "  pval=sms_val,\n",
    "  pval.method=TRUE,\n",
    "  palette=c(\"dodgerblue2\", \"orchid2\"),\n",
    "  title=\"Kaplan-Meier Curve for Lung Cancer Survival\",\n",
    "  risk.table.height=.25)\n",
    "\n",
    "# Cox Regression\n",
    "data_gene <- rpkm_data[rpkm_data$Gene == this_gene,]\n",
    "# Merged mixed data tables\n",
    "merged_data_gene <- merge(\n",
    "  data_gene,\n",
    "  clinical_sample_early,\n",
    "  by.x = \"Sample\",\n",
    "  by.y = \"case_submitter_id\")\n",
    "opt_cutoff <- surv_cutpoint(merged_data_gene, time = \"days_to_death\", event = \"status\", variables = c(\"FPKM\"))\n",
    "opt_categories <- surv_categorize(opt_cutoff)\n",
    "opt_fit <- survfit(Surv(days_to_death, status) ~ FPKM, data = opt_categories)\n",
    "res.cox <- coxph(Surv(days_to_death, status) ~ FPKM, data=opt_categories)\n",
    "summary(res.cox)"
   ]
  },
  {
   "cell_type": "markdown",
   "id": "cf10c1f1-cae7-4628-9862-9876f6babea7",
   "metadata": {},
   "source": [
    "#### Late samples"
   ]
  },
  {
   "cell_type": "code",
   "execution_count": null,
   "id": "45ccf6ee-2a13-485c-8f4f-e065b58223d6",
   "metadata": {
    "tags": []
   },
   "outputs": [],
   "source": [
    "# K-M Curve\n",
    "data_gene <- rpkm_data[rpkm_data$Gene == this_gene,]\n",
    "# Merged mixed data tables\n",
    "merged_data_gene <- merge(\n",
    "  data_gene,\n",
    "  clinical_sample_late,\n",
    "  by.x = \"Sample\",\n",
    "  by.y = \"case_submitter_id\")\n",
    "\n",
    "opt_cutoff <- surv_cutpoint(merged_data_gene, time = \"days_to_death\", event = \"status\", variables = c(\"FPKM\"))\n",
    "opt_categories <- surv_categorize(opt_cutoff)\n",
    "opt_fit <- survfit(Surv(days_to_death, status) ~ FPKM, data = opt_categories)\n",
    "\n",
    "sms_val <- surv_pvalue(opt_fit)$pval\n",
    "\n",
    "#pdf('GLYCTK_late_km.pdf')\n",
    "ggsurvplot(\n",
    "  opt_fit,\n",
    "  risk.table = TRUE,\n",
    "  conf.int=TRUE,\n",
    "  pval=sms_val,\n",
    "  pval.method=TRUE,\n",
    "  palette=c(\"dodgerblue2\", \"orchid2\"),\n",
    "  title=\"Kaplan-Meier Curve for Lung Cancer Survival\",\n",
    "  risk.table.height=.25)\n",
    "\n",
    "# Cox Regression \n",
    "data_gene <- rpkm_data[rpkm_data$Gene == this_gene,]\n",
    "# Merged mixed data tables\n",
    "merged_data_gene <- merge(\n",
    "  data_gene,\n",
    "  clinical_sample_late,\n",
    "  by.x = \"Sample\",\n",
    "  by.y = \"case_submitter_id\")\n",
    "opt_cutoff <- surv_cutpoint(merged_data_gene, time = \"days_to_death\", event = \"status\", variables = c(\"FPKM\"))\n",
    "opt_categories <- surv_categorize(opt_cutoff)\n",
    "opt_fit <- survfit(Surv(days_to_death, status) ~ FPKM, data = opt_categories)\n",
    "res.cox <- coxph(Surv(days_to_death, status) ~ FPKM, data=opt_categories)\n",
    "summary(res.cox)"
   ]
  },
  {
   "cell_type": "markdown",
   "id": "9aed478a-489b-4ee9-a3c6-b1d338020aef",
   "metadata": {},
   "source": [
    "### Rank order survival p-values"
   ]
  },
  {
   "cell_type": "code",
   "execution_count": null,
   "id": "a2710a2d-2d3b-4bc2-a5ab-d46a8dcb4240",
   "metadata": {},
   "outputs": [],
   "source": [
    "# Get ranked percentile\n",
    "optimized_pvals_sorted <- optimized_pvals[order(unlist(optimized_pvals), decreasing=FALSE)]\n",
    "ptimized_pvals_early_sorted <- optimized_pvals_early[order(unlist(optimized_pvals_early), decreasing=FALSE)]\n",
    "optimized_pvals_late_sorted <- optimized_pvals_late[order(unlist(optimized_pvals_late), decreasing=FALSE)]"
   ]
  },
  {
   "cell_type": "code",
   "execution_count": null,
   "id": "6e03f32f-f43b-4e72-a7dd-a3181c31875d",
   "metadata": {},
   "outputs": [],
   "source": [
    "bump <- 1e-5"
   ]
  },
  {
   "cell_type": "markdown",
   "id": "ccc97324-3a7a-4fc9-bae7-aff0dee6e455",
   "metadata": {},
   "source": [
    "#### All stages"
   ]
  },
  {
   "cell_type": "code",
   "execution_count": null,
   "id": "1622ce53-55d6-45e2-a4d0-511a73392600",
   "metadata": {},
   "outputs": [],
   "source": [
    "# Plot distribution\n",
    "optimized_pvals_bh <- p.adjust(\n",
    "  optimized_pvals_sorted, \n",
    "  method = \"BH\", \n",
    "  n = length(optimized_pvals_sorted))\n",
    "\n",
    "#pdf('bh_dist_all.pdf')\n",
    "hist(\n",
    "  -1 * log10(as.numeric(optimized_pvals_bh) + bump),\n",
    "  breaks=150,\n",
    "  main=\"LUAD optimized survival distribution (BH-corrected)\",\n",
    "  xlab=expression(\"-log\"[10]*\"(log-rank p-value)\"))\n",
    "abline(v = -1 * log10(optimized_pvals_bh['ENSG00000102172'] + bump), col=\"#1b9e77\", lwd=3, lty=2)\n",
    "abline(v = -1 * log10(optimized_pvals_bh['ENSG00000168237'] + bump), col=\"#7570b3\", lwd=3, lty=2)"
   ]
  },
  {
   "cell_type": "markdown",
   "id": "6a0cc012-3102-4f0b-b86e-800335ccfe85",
   "metadata": {},
   "source": [
    "#### Early Stage"
   ]
  },
  {
   "cell_type": "code",
   "execution_count": null,
   "id": "d929e297-c5fd-48ec-a198-ff8fe135f4fd",
   "metadata": {},
   "outputs": [],
   "source": [
    "# Plot distribution\n",
    "optimized_pvals_bh_early <- p.adjust(\n",
    "  ptimized_pvals_early_sorted, \n",
    "  method = \"BH\", \n",
    "  n = length(ptimized_pvals_early_sorted))\n",
    "\n",
    "#pdf('bh_dist_early.pdf')\n",
    "hist(\n",
    "  -1 * log10(as.numeric(optimized_pvals_bh_early) + bump),\n",
    "  breaks=150,\n",
    "  main=\"LUAD optimized survival distribution (BH-corrected)\",\n",
    "  xlab=expression(\"-log\"[10]*\"(log-rank p-value)\"))\n",
    "abline(v = -1 * log10(optimized_pvals_bh_early['ENSG00000102172'] + bump), col=\"#1b9e77\", lwd=3, lty=2)\n",
    "abline(v = -1 * log10(optimized_pvals_bh_early['ENSG00000168237'] + bump), col=\"#7570b3\", lwd=3, lty=2)"
   ]
  },
  {
   "cell_type": "markdown",
   "id": "f3f1907f-3ec9-48bf-88be-bb2624684a64",
   "metadata": {},
   "source": [
    "#### Late Stage"
   ]
  },
  {
   "cell_type": "code",
   "execution_count": null,
   "id": "cdfa41b9-725c-4e7f-b554-69cf7919acb0",
   "metadata": {
    "tags": []
   },
   "outputs": [],
   "source": [
    "# Plot distribution\n",
    "optimized_pvals_bh_late <- p.adjust(\n",
    "  optimized_pvals_late_sorted, \n",
    "  method = \"BH\", \n",
    "  n = length(optimized_pvals_late_sorted))\n",
    "\n",
    "#pdf('bh_dist_late.pdf')\n",
    "hist(\n",
    "  -1 * log10(as.numeric(optimized_pvals_bh_late) + bump),\n",
    "  breaks=150,\n",
    "  main=\"LUAD optimized survival distribution (BH-corrected)\",\n",
    "  xlab=expression(\"-log\"[10]*\"(log-rank p-value)\"))\n",
    "abline(v = -1 * log10(optimized_pvals_bh_late['ENSG00000102172'] + bump), col=\"#1b9e77\", lwd=3, lty=2)\n",
    "abline(v = -1 * log10(optimized_pvals_bh_late['ENSG00000168237'] + bump), col=\"#7570b3\", lwd=3, lty=2)"
   ]
  },
  {
   "cell_type": "markdown",
   "id": "05ebf82d-a880-496d-ad38-964c500c9d33",
   "metadata": {},
   "source": [
    "### Session Info"
   ]
  },
  {
   "cell_type": "code",
   "execution_count": null,
   "id": "c7c2d119-4aca-4542-9512-3410a7640e60",
   "metadata": {},
   "outputs": [],
   "source": [
    "sessionInfo()"
   ]
  },
  {
   "cell_type": "code",
   "execution_count": null,
   "id": "fc2f540a-e2bf-4938-a538-7dd57e4de19f",
   "metadata": {},
   "outputs": [],
   "source": []
  }
 ],
 "metadata": {
  "kernelspec": {
   "display_name": "R",
   "language": "R",
   "name": "ir"
  },
  "language_info": {
   "codemirror_mode": "r",
   "file_extension": ".r",
   "mimetype": "text/x-r-source",
   "name": "R",
   "pygments_lexer": "r",
   "version": "4.0.2"
  }
 },
 "nbformat": 4,
 "nbformat_minor": 5
}
