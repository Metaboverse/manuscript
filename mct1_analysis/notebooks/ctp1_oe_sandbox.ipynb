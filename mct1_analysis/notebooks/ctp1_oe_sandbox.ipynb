{
 "cells": [
  {
   "cell_type": "code",
   "execution_count": 17,
   "metadata": {},
   "outputs": [],
   "source": [
    "import matplotlib.pyplot as plt\n",
    "import seaborn as sns \n",
    "import pandas as pd"
   ]
  },
  {
   "cell_type": "code",
   "execution_count": 6,
   "metadata": {},
   "outputs": [],
   "source": [
    "data = pd.read_csv(\"C:\\\\Users\\\\jorda\\\\Desktop\\\\Jordan_data_atp.txt\", sep=\"\\t\", index_col=0)"
   ]
  },
  {
   "cell_type": "code",
   "execution_count": 12,
   "metadata": {},
   "outputs": [
    {
     "data": {
      "text/html": [
       "<div>\n",
       "<style scoped>\n",
       "    .dataframe tbody tr th:only-of-type {\n",
       "        vertical-align: middle;\n",
       "    }\n",
       "\n",
       "    .dataframe tbody tr th {\n",
       "        vertical-align: top;\n",
       "    }\n",
       "\n",
       "    .dataframe thead th {\n",
       "        text-align: right;\n",
       "    }\n",
       "</style>\n",
       "<table border=\"1\" class=\"dataframe\">\n",
       "  <thead>\n",
       "    <tr style=\"text-align: right;\">\n",
       "      <th></th>\n",
       "      <th>ATP_1</th>\n",
       "      <th>ATP_2</th>\n",
       "      <th>ATP_3</th>\n",
       "    </tr>\n",
       "  </thead>\n",
       "  <tbody>\n",
       "    <tr>\n",
       "      <th>WT + EV (SD)</th>\n",
       "      <td>8300000</td>\n",
       "      <td>10000000</td>\n",
       "      <td>13000000</td>\n",
       "    </tr>\n",
       "    <tr>\n",
       "      <th>WT + CTP1 (SD)</th>\n",
       "      <td>9100000</td>\n",
       "      <td>8700000</td>\n",
       "      <td>7600000</td>\n",
       "    </tr>\n",
       "    <tr>\n",
       "      <th>MCT + EV  (SD)</th>\n",
       "      <td>10000000</td>\n",
       "      <td>12000000</td>\n",
       "      <td>21000000</td>\n",
       "    </tr>\n",
       "    <tr>\n",
       "      <th>MCT + CTP1 (SD)</th>\n",
       "      <td>10000000</td>\n",
       "      <td>9000000</td>\n",
       "      <td>13000000</td>\n",
       "    </tr>\n",
       "    <tr>\n",
       "      <th>WT + EV  (SR)</th>\n",
       "      <td>1900000</td>\n",
       "      <td>4400000</td>\n",
       "      <td>4500000</td>\n",
       "    </tr>\n",
       "    <tr>\n",
       "      <th>WT + CTP1  (SR)</th>\n",
       "      <td>2900000</td>\n",
       "      <td>3900000</td>\n",
       "      <td>3400000</td>\n",
       "    </tr>\n",
       "    <tr>\n",
       "      <th>MCT + EV  (SR)</th>\n",
       "      <td>860000</td>\n",
       "      <td>2400000</td>\n",
       "      <td>1500000</td>\n",
       "    </tr>\n",
       "    <tr>\n",
       "      <th>MCT + CTP1 (SR)</th>\n",
       "      <td>3300000</td>\n",
       "      <td>5900000</td>\n",
       "      <td>6500000</td>\n",
       "    </tr>\n",
       "  </tbody>\n",
       "</table>\n",
       "</div>"
      ],
      "text/plain": [
       "                    ATP_1     ATP_2     ATP_3\n",
       "WT + EV (SD)      8300000  10000000  13000000\n",
       "WT + CTP1 (SD)    9100000   8700000   7600000\n",
       "MCT + EV  (SD)   10000000  12000000  21000000\n",
       "MCT + CTP1 (SD)  10000000   9000000  13000000\n",
       "WT + EV  (SR)     1900000   4400000   4500000\n",
       "WT + CTP1  (SR)   2900000   3900000   3400000\n",
       "MCT + EV  (SR)     860000   2400000   1500000\n",
       "MCT + CTP1 (SR)   3300000   5900000   6500000"
      ]
     },
     "execution_count": 12,
     "metadata": {},
     "output_type": "execute_result"
    }
   ],
   "source": [
    "data"
   ]
  },
  {
   "cell_type": "code",
   "execution_count": 21,
   "metadata": {},
   "outputs": [
    {
     "data": {
      "image/png": "[encoded data removed]",
      "text/plain": [
       "<Figure size 432x288 with 1 Axes>"
      ]
     },
     "metadata": {
      "needs_background": "light"
     },
     "output_type": "display_data"
    }
   ],
   "source": [
    "ax = sns.boxplot(data=data.T, orient=\"h\")\n",
    "#ax.invert_xaxis()\n",
    "ax.set(xlabel=\"ATP relative conc.\")\n",
    "plt.savefig(\"C:\\\\Users\\\\jorda\\\\Desktop\\\\output.png\", dpi=300, bbox_inches='tight')"
   ]
  },
  {
   "cell_type": "code",
   "execution_count": 18,
   "metadata": {},
   "outputs": [
    {
     "data": {
      "text/plain": [
       "<Figure size 432x288 with 0 Axes>"
      ]
     },
     "metadata": {},
     "output_type": "display_data"
    }
   ],
   "source": []
  },
  {
   "cell_type": "code",
   "execution_count": null,
   "metadata": {},
   "outputs": [],
   "source": []
  }
 ],
 "metadata": {
  "kernelspec": {
   "display_name": "Python 3",
   "language": "python",
   "name": "python3"
  },
  "language_info": {
   "codemirror_mode": {
    "name": "ipython",
    "version": 3
   },
   "file_extension": ".py",
   "mimetype": "text/x-python",
   "name": "python",
   "nbconvert_exporter": "python",
   "pygments_lexer": "ipython3",
   "version": "3.9.1"
  }
 },
 "nbformat": 4,
 "nbformat_minor": 4
}
